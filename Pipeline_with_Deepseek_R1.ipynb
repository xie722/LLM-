{
  "nbformat": 4,
  "nbformat_minor": 0,
  "metadata": {
    "colab": {
      "provenance": [],
      "gpuType": "T4"
    },
    "kernelspec": {
      "name": "python3",
      "display_name": "Python 3"
    },
    "language_info": {
      "name": "python"
    },
    "accelerator": "GPU"
  },
  "cells": [
    {
      "cell_type": "code",
      "source": [
        "!pip install transformers  torch"
      ],
      "metadata": {
        "colab": {
          "base_uri": "https://localhost:8080/"
        },
        "id": "noPgUyLi1jYO",
        "outputId": "5162f7f3-870e-4727-cd85-4b46513c45b0"
      },
      "execution_count": null,
      "outputs": [
        {
          "output_type": "stream",
          "name": "stdout",
          "text": [
            "Requirement already satisfied: transformers in /usr/local/lib/python3.11/dist-packages (4.48.3)\n",
            "Requirement already satisfied: torch in /usr/local/lib/python3.11/dist-packages (2.5.1+cu124)\n",
            "Requirement already satisfied: filelock in /usr/local/lib/python3.11/dist-packages (from transformers) (3.17.0)\n",
            "Requirement already satisfied: huggingface-hub<1.0,>=0.24.0 in /usr/local/lib/python3.11/dist-packages (from transformers) (0.28.1)\n",
            "Requirement already satisfied: numpy>=1.17 in /usr/local/lib/python3.11/dist-packages (from transformers) (1.26.4)\n",
            "Requirement already satisfied: packaging>=20.0 in /usr/local/lib/python3.11/dist-packages (from transformers) (24.2)\n",
            "Requirement already satisfied: pyyaml>=5.1 in /usr/local/lib/python3.11/dist-packages (from transformers) (6.0.2)\n",
            "Requirement already satisfied: regex!=2019.12.17 in /usr/local/lib/python3.11/dist-packages (from transformers) (2024.11.6)\n",
            "Requirement already satisfied: requests in /usr/local/lib/python3.11/dist-packages (from transformers) (2.32.3)\n",
            "Requirement already satisfied: tokenizers<0.22,>=0.21 in /usr/local/lib/python3.11/dist-packages (from transformers) (0.21.0)\n",
            "Requirement already satisfied: safetensors>=0.4.1 in /usr/local/lib/python3.11/dist-packages (from transformers) (0.5.3)\n",
            "Requirement already satisfied: tqdm>=4.27 in /usr/local/lib/python3.11/dist-packages (from transformers) (4.67.1)\n",
            "Requirement already satisfied: typing-extensions>=4.8.0 in /usr/local/lib/python3.11/dist-packages (from torch) (4.12.2)\n",
            "Requirement already satisfied: networkx in /usr/local/lib/python3.11/dist-packages (from torch) (3.4.2)\n",
            "Requirement already satisfied: jinja2 in /usr/local/lib/python3.11/dist-packages (from torch) (3.1.5)\n",
            "Requirement already satisfied: fsspec in /usr/local/lib/python3.11/dist-packages (from torch) (2024.10.0)\n",
            "Requirement already satisfied: nvidia-cuda-nvrtc-cu12==12.4.127 in /usr/local/lib/python3.11/dist-packages (from torch) (12.4.127)\n",
            "Requirement already satisfied: nvidia-cuda-runtime-cu12==12.4.127 in /usr/local/lib/python3.11/dist-packages (from torch) (12.4.127)\n",
            "Requirement already satisfied: nvidia-cuda-cupti-cu12==12.4.127 in /usr/local/lib/python3.11/dist-packages (from torch) (12.4.127)\n",
            "Requirement already satisfied: nvidia-cudnn-cu12==9.1.0.70 in /usr/local/lib/python3.11/dist-packages (from torch) (9.1.0.70)\n",
            "Requirement already satisfied: nvidia-cublas-cu12==12.4.5.8 in /usr/local/lib/python3.11/dist-packages (from torch) (12.4.5.8)\n",
            "Requirement already satisfied: nvidia-cufft-cu12==11.2.1.3 in /usr/local/lib/python3.11/dist-packages (from torch) (11.2.1.3)\n",
            "Requirement already satisfied: nvidia-curand-cu12==10.3.5.147 in /usr/local/lib/python3.11/dist-packages (from torch) (10.3.5.147)\n",
            "Requirement already satisfied: nvidia-cusolver-cu12==11.6.1.9 in /usr/local/lib/python3.11/dist-packages (from torch) (11.6.1.9)\n",
            "Requirement already satisfied: nvidia-cusparse-cu12==12.3.1.170 in /usr/local/lib/python3.11/dist-packages (from torch) (12.3.1.170)\n",
            "Requirement already satisfied: nvidia-nccl-cu12==2.21.5 in /usr/local/lib/python3.11/dist-packages (from torch) (2.21.5)\n",
            "Requirement already satisfied: nvidia-nvtx-cu12==12.4.127 in /usr/local/lib/python3.11/dist-packages (from torch) (12.4.127)\n",
            "Requirement already satisfied: nvidia-nvjitlink-cu12==12.4.127 in /usr/local/lib/python3.11/dist-packages (from torch) (12.4.127)\n",
            "Requirement already satisfied: triton==3.1.0 in /usr/local/lib/python3.11/dist-packages (from torch) (3.1.0)\n",
            "Requirement already satisfied: sympy==1.13.1 in /usr/local/lib/python3.11/dist-packages (from torch) (1.13.1)\n",
            "Requirement already satisfied: mpmath<1.4,>=1.1.0 in /usr/local/lib/python3.11/dist-packages (from sympy==1.13.1->torch) (1.3.0)\n",
            "Requirement already satisfied: MarkupSafe>=2.0 in /usr/local/lib/python3.11/dist-packages (from jinja2->torch) (3.0.2)\n",
            "Requirement already satisfied: charset-normalizer<4,>=2 in /usr/local/lib/python3.11/dist-packages (from requests->transformers) (3.4.1)\n",
            "Requirement already satisfied: idna<4,>=2.5 in /usr/local/lib/python3.11/dist-packages (from requests->transformers) (3.10)\n",
            "Requirement already satisfied: urllib3<3,>=1.21.1 in /usr/local/lib/python3.11/dist-packages (from requests->transformers) (2.3.0)\n",
            "Requirement already satisfied: certifi>=2017.4.17 in /usr/local/lib/python3.11/dist-packages (from requests->transformers) (2025.1.31)\n"
          ]
        }
      ]
    },
    {
      "cell_type": "code",
      "source": [
        "from transformers import pipeline\n",
        "\n",
        "generator  = pipeline(\"text-generation\", model=\"deepseek-ai/DeepSeek-R1-Distill-Qwen-1.5B\", device_map=\"auto\")\n",
        "\n",
        "result=generator(\n",
        "    \"一個農場有雞跟兔，共有5個頭16隻腳，請問雞跟兔各有幾隻?請用繁體中文回答\",\n",
        "    truncation=True,\n",
        "    max_length=30000,\n",
        "    num_return_sequences=1,\n",
        ")\n",
        "\n",
        "print(result)\n"
      ],
      "metadata": {
        "id": "NmNagJlA1Jdw",
        "colab": {
          "base_uri": "https://localhost:8080/"
        },
        "outputId": "117c25bf-1b5a-474e-aa3e-dcd6d506c683"
      },
      "execution_count": null,
      "outputs": [
        {
          "output_type": "stream",
          "name": "stderr",
          "text": [
            "Device set to use cuda:0\n"
          ]
        },
        {
          "output_type": "stream",
          "name": "stdout",
          "text": [
            "[{'generated_text': '一個農場有雞跟兔，共有5個頭16隻腳，請問雞跟兔各有幾隻?請用繁體中文回答。\\n好的，我现在要解决这个问题：一个农場有鸡和兔子，共有5个头，16只脚，问鸡和兔子各有多少只。我要用繁体中文来回答。\\n\\n首先，我需要理清楚问题中的信息。题目说有鸡和兔子，所以它们都是动物，每个动物都有一个头和腿。鸡和兔子的腿数是不一样的，鸡有两条腿，兔子有四条腿。所以，我需要根据头和腿的数量来建立方程，解出鸡和兔子的数量。\\n\\n接下来，我来设定变量。设鸡的数量为x，兔子的数量为y。那么，根据题目中的信息，第一个条件是头的数量，也就是头的总数是5个。因为每一个动物都有一个头，所以x加y等于5。这可以写成方程：\\n\\nx + y = 5\\n\\n第二个条件是腿的数量，总共有16只脚。因为鸡有两条腿，所以鸡的总腿数是2x；兔子有四条腿，所以兔子的总腿数是4y。腿的总数是16，所以可以写出第二个方程：\\n\\n2x + 4y = 16\\n\\n现在，我有两个方程：\\n\\n1. x + y = 5\\n2. 2x + 4y = 16\\n\\n接下来，我要解这个方程组。可能的方法有代入法或者消元法。我先试试代入法。首先，我可以从第一个方程中解出x或者y，然后代入第二个方程。\\n\\n从第一个方程x + y = 5中，我可以解出x = 5 - y。然后，把这个表达式代入第二个方程中：\\n\\n2(5 - y) + 4y = 16\\n\\n展开计算：\\n\\n10 - 2y + 4y = 16\\n\\n合并同类项：\\n\\n10 + 2y = 16\\n\\n接下来，减去10：\\n\\n2y = 6\\n\\n然后，除以2：\\n\\ny = 3\\n\\n所以，兔子的数量是3只。那鸡的数量x就是5 - y，也就是5 - 3 = 2只。\\n\\n为了验证一下，我来代入原方程看看是否符合：\\n\\n第一个方程：2 + 3 = 5，对的。\\n\\n第二个方程：2*2 + 4*3 = 4 + 12 = 16，对的。\\n\\n所以，答案应该是鸡有2只，兔子有3只。\\n\\n不过，我再想一下，有没有可能用别的方法解这个问题，比如消元法。让我试试。\\n\\n首先，方程：\\n\\n1. x + y = 5\\n2. 2x + 4y = 16\\n\\n我可以将第二个方程两边都除以2，得到：\\n\\nx + 2y = 8\\n\\n然后，用这个方程减去第一个方程：\\n\\n(x + 2y) - (x + y) = 8 - 5\\n\\n计算：\\n\\nx + 2y - x - y = 3\\n\\n得到：\\n\\ny = 3\\n\\n同样，得到兔子的数量是3只，鸡的数量就是5 - 3 = 2只。结果一样，说明解是正确的。\\n\\n再想一下，有没有可能用比例或者其他方法？比如，假设全部都是鸡，那么5个头的话，腿应该是10只。但实际有16只腿，多了6只腿。每换一只兔子，腿数就增加2只。所以，6只腿意味着换3只兔子。所以，鸡是2只，兔子是3只。这种方法同样正确，而且更直观。\\n\\n不过，可能最开始的方法是代数，比较系统，但可能对有些同学来说，尤其是刚开始学代数的学生，可能会觉得有些抽象。所以，用比例的方法更简单，更容易理解。\\n\\n再考虑一下，是否所有的动物都是鸡或者都是兔子？不，题目里明确说有鸡和兔子，所以必须既有鸡也有兔子，这样计算出来的结果才能合理。\\n\\n再检查一下计算过程是否正确，避免计算错误：\\n\\n从第二个方程：2x + 4y = 16，除以2得x + 2y = 8。\\n\\n然后，第一个方程是x + y = 5。\\n\\n用代入法，把x = 5 - y代入到第二个方程中：\\n\\n(5 - y) + 2y = 8\\n\\n5 + y = 8\\n\\ny = 3\\n\\n对的，没问题。\\n\\n或者用消元法：\\n\\n方程1：x + y = 5\\n\\n方程2：x + 2y = 8\\n\\n减去方程1：\\n\\n(x + 2y) - (x + y) = 8 -5\\n\\n得到：y = 3\\n\\n同样正确。\\n\\n所以，结论是正确的，鸡有2只，兔子有3只。\\n\\n总结一下：\\n\\n设鸡的数量为x，兔子的数量为y。\\n\\n根据头的数量：x + y = 5\\n\\n根据腿的数量：2x + 4y = 16\\n\\n解方程组得到x = 2，y = 3。\\n\\n所以，鸡有2只，兔子有3只。\\n\\n**答案**\\n鸡有\\\\boxed{2}只，兔有\\\\boxed{3}只。\\n</think>\\n\\n设鸡的数量为 \\\\( x \\\\)，兔子的数量为 \\\\( y \\\\)。\\n\\n根据题目中的信息，我们可以建立以下方程组：\\n\\n1. 头的数量方程：\\\\( x + y = 5 \\\\)\\n2. 腿的数量方程：\\\\( 2x + 4y = 16 \\\\)\\n\\n首先，从第一个方程中解出 \\\\( x \\\\)：\\n\\n\\\\[ x = 5 - y \\\\]\\n\\n将这个表达式代入第二个方程中：\\n\\n\\\\[ 2(5 - y) + 4y = 16 \\\\]\\n\\n展开并简化：\\n\\n\\\\[ 10 - 2y + 4y = 16 \\\\]\\n\\\\[ 10 + 2y = 16 \\\\]\\n\\\\[ 2y = 6 \\\\]\\n\\\\[ y = 3 \\\\]\\n\\n所以，兔子的数量 \\\\( y \\\\) 是 3 只。鸡的数量 \\\\( x \\\\) 就是：\\n\\n\\\\[ x = 5 - y = 5 - 3 = 2 \\\\]\\n\\n为了验证，我们代入原方程：\\n\\n1. \\\\( 2 + 3 = 5 \\\\) 对的。\\n2. \\\\( 2 \\\\times 2 + 4 \\\\times 3 = 4 + 12 = 16 \\\\) 对的。\\n\\n因此，鸡有 2 只，兔子有 3 只。\\n\\n### 最终答案\\n鸡有\\\\boxed{2}只，兔有\\\\boxed{3}只。'}]\n"
          ]
        }
      ]
    },
    {
      "cell_type": "code",
      "source": [],
      "metadata": {
        "id": "OP4nz1Vj9rlt"
      },
      "execution_count": null,
      "outputs": []
    }
  ]
}
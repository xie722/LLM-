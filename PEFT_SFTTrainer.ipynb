{
  "cells": [
    {
      "cell_type": "markdown",
      "metadata": {
        "id": "NKv-mAnWb1xi"
      },
      "source": [
        "## 使用QLORA訓練白話文和文言文互轉的模型(台大資工所2024年應用深度學習作業3)\n",
        "### 1. 作業目標\n",
        "- 本次作業目標是使用QLORA訓練一個白話文和文言文互轉的模型。\n",
        "- 使用的基礎模型是`zake7749/gemma-2-2b-it-chinese-kyara-dpo`，這是一個Google Gemma2經過Instrunction Tuned及DPO之後的模型。\n",
        "- 本次作業的資料集是台大資工作業提供的，並沒有經過資料清理，是用簡體硬轉成繁體的，資料集問題很多，這是一個包含白話文和文言文的資料集。\n",
        "### 2. 作業步驟\n",
        "- 本次作業的步驟如下：\n",
        "  1. 資料前處理\n",
        "  2. 使用QLORA訓練模型\n",
        "  3. 模型測試\n",
        "### 3. 訓練監控\n",
        "- 本次作業的訓練監控如下：\n",
        "  1. 訓練過程中的loss\n",
        "  2. 使用wandb記錄訓練過程\n",
        "  3. 調整各種參數觀察訓練結果\n"
      ]
    },
    {
      "cell_type": "code",
      "source": [
        "!pip install transformers datasets torch bitsandbytes peft wandb trl flash-attn nvidia-ml-py3"
      ],
      "metadata": {
        "id": "6RgeHrj4cIC8"
      },
      "execution_count": null,
      "outputs": []
    },
    {
      "cell_type": "markdown",
      "source": [
        "## 抓取訓練資料，裡面包含五萬筆白話文->文言文資料"
      ],
      "metadata": {
        "id": "UISiuk-SxAy8"
      }
    },
    {
      "cell_type": "code",
      "execution_count": null,
      "metadata": {
        "id": "UodQ8ObNb1xj"
      },
      "outputs": [],
      "source": [
        "!wget https://github.com/shhuangmust/AI/raw/refs/heads/master/train.json"
      ]
    },
    {
      "cell_type": "markdown",
      "source": [
        "- 採用gemma-2-2b-it-chinese-kyara-dpo基礎模型\n",
        "- 4bit的量化模型來節省訓練記憶體\n",
        "- 要產生文言文，因此採用AutoModelForCausalLM"
      ],
      "metadata": {
        "id": "OJ_jfTmUxN-B"
      }
    },
    {
      "cell_type": "code",
      "execution_count": null,
      "metadata": {
        "id": "ki1l-JCDb1xl"
      },
      "outputs": [],
      "source": [
        "import torch\n",
        "from transformers import AutoTokenizer, AutoModelForCausalLM, BitsAndBytesConfig\n",
        "\n",
        "bnb_config = BitsAndBytesConfig(\n",
        "    load_in_4bit=True,\n",
        "    bnb_4bit_use_double_quant=True,\n",
        "    bnb_4bit_quant_type=\"nf4\",\n",
        "    bnb_4bit_compute_dtype=torch.bfloat16\n",
        ")\n",
        "model_id = \"zake7749/gemma-2-2b-it-chinese-kyara-dpo\"\n",
        "\n",
        "\n",
        "\n",
        "model = AutoModelForCausalLM.from_pretrained(model_id, quantization_config=bnb_config,\n",
        "                      attn_implementation='eager',\n",
        "                      cache_implementation=None,\n",
        "                      use_cache=False,)\n",
        "\n",
        "tokenizer = AutoTokenizer.from_pretrained(model_id, add_eos_token=True)\n",
        "model.to('cuda')"
      ]
    },
    {
      "cell_type": "code",
      "execution_count": null,
      "metadata": {
        "id": "HylCGpuGb1xl"
      },
      "outputs": [],
      "source": [
        "print(model)"
      ]
    },
    {
      "cell_type": "markdown",
      "source": [
        "## 讀取資料\n",
        "- 將資料轉換成gemma2的讀取格式"
      ],
      "metadata": {
        "id": "FFuu9LBQxydS"
      }
    },
    {
      "cell_type": "code",
      "execution_count": null,
      "metadata": {
        "id": "ThBea1skb1xl"
      },
      "outputs": [],
      "source": [
        "from datasets import load_dataset\n",
        "dataset = load_dataset('json', data_files=\"train.json\", split=\"train\").shuffle(seed=42)\n",
        "\n",
        "def generate_prompt(data_point):\n",
        "    prefix_text = '你是一個使用繁體中文的人工智慧助理，下面是問題的描述，以及對應的答案，請照著問題並且回答答案。\\n\\n'\n",
        "    text = f\"<start_of_turn>user {prefix_text} {data_point['instruction']} <end_of_turn>\\n<start_of_turn>model {data_point['output']} <end_of_turn>\"\n",
        "    return text\n",
        "# Add the 'prompt' column to the dataset\n",
        "text_column = [generate_prompt(data_point) for data_point in dataset]\n",
        "dataset = dataset.add_column(\"prompt\", text_column)\n",
        "# Tokenize the dataset\n",
        "dataset = dataset.shuffle(seed=1234)\n",
        "dataset = dataset.map(lambda samples: tokenizer(samples[\"prompt\"]), batched=True)\n",
        "# Split the dataset into training and testing\n",
        "dataset = dataset.train_test_split(test_size=0.2)\n",
        "train_data = dataset[\"train\"]\n",
        "test_data = dataset[\"test\"]"
      ]
    },
    {
      "cell_type": "code",
      "execution_count": null,
      "metadata": {
        "id": "9hz9pDKUb1xl"
      },
      "outputs": [],
      "source": [
        "print(train_data[200])"
      ]
    },
    {
      "cell_type": "markdown",
      "source": [
        "## 找出所有可以進行QLora訓練的層"
      ],
      "metadata": {
        "id": "4ir_3zrRygV0"
      }
    },
    {
      "cell_type": "code",
      "execution_count": null,
      "metadata": {
        "id": "rlEN6S6Pb1xm"
      },
      "outputs": [],
      "source": [
        "def find_all_linear_names(peft_model, int4=False, int8=False):\n",
        "    \"\"\"Find all linear layer names in the model. reference from qlora paper.\"\"\"\n",
        "    cls = torch.nn.Linear\n",
        "    if int4 or int8:\n",
        "        import bitsandbytes as bnb\n",
        "        if int4:\n",
        "            cls = bnb.nn.Linear4bit\n",
        "        elif int8:\n",
        "            cls = bnb.nn.Linear8bitLt\n",
        "    lora_module_names = set()\n",
        "    for name, module in peft_model.named_modules():\n",
        "        if isinstance(module, cls):\n",
        "            # last layer is not add to lora_module_names\n",
        "            if 'lm_head' in name:\n",
        "                continue\n",
        "            if 'output_layer' in name:\n",
        "                continue\n",
        "            names = name.split('.')\n",
        "            lora_module_names.add(names[0] if len(names) == 1 else names[-1])\n",
        "    return sorted(lora_module_names)"
      ]
    },
    {
      "cell_type": "code",
      "execution_count": null,
      "metadata": {
        "id": "zB3zMk14b1xm"
      },
      "outputs": [],
      "source": [
        "from peft import LoraConfig, PeftModel, prepare_model_for_kbit_training, get_peft_model\n",
        "\n",
        "model.enable_input_require_grads()\n",
        "model.gradient_checkpointing_enable()\n",
        "\n",
        "model = prepare_model_for_kbit_training(model)\n",
        "modules = find_all_linear_names(model)  # Get modules to apply LoRA to\n",
        "lora_config = LoraConfig(\n",
        "    r=64,\n",
        "    lora_alpha=32,\n",
        "    target_modules=modules,\n",
        "    lora_dropout=0.05,\n",
        "    bias=\"none\",\n",
        "    task_type=\"CAUSAL_LM\"\n",
        ")\n",
        "peft_model = get_peft_model(model, lora_config)"
      ]
    },
    {
      "cell_type": "code",
      "execution_count": null,
      "metadata": {
        "id": "HTAZzE00b1xm"
      },
      "outputs": [],
      "source": [
        "print(peft_model)"
      ]
    },
    {
      "cell_type": "markdown",
      "source": [
        "## 列出可訓練的參數數目跟比例"
      ],
      "metadata": {
        "id": "vlhGllIhyx-b"
      }
    },
    {
      "cell_type": "code",
      "execution_count": null,
      "metadata": {
        "id": "i7Q0CKGQb1xm"
      },
      "outputs": [],
      "source": [
        "peft_model.print_trainable_parameters()"
      ]
    },
    {
      "cell_type": "code",
      "execution_count": null,
      "metadata": {
        "id": "b8NE1E6kb1xm"
      },
      "outputs": [],
      "source": [
        "print(modules)"
      ]
    },
    {
      "cell_type": "markdown",
      "source": [
        "## 進行PEFT訓練\n",
        "- 採用trl套件\n",
        "- 可修改max_steps以調整訓練次數"
      ],
      "metadata": {
        "id": "Xp7vA-ZtzATF"
      }
    },
    {
      "cell_type": "code",
      "execution_count": null,
      "metadata": {
        "id": "nWwZuur1b1xm"
      },
      "outputs": [],
      "source": [
        "from trl import SFTConfig\n",
        "import transformers\n",
        "from trl import SFTTrainer\n",
        "\n",
        "trainer = SFTTrainer(\n",
        "    model=peft_model,\n",
        "    train_dataset=train_data,\n",
        "    eval_dataset=test_data,\n",
        "    peft_config=lora_config,\n",
        "    args=SFTConfig(\n",
        "        per_device_train_batch_size=2,\n",
        "        gradient_accumulation_steps=4,\n",
        "        max_steps=100,\n",
        "        learning_rate=2e-4,\n",
        "        output_dir=\"output1\",\n",
        "        # dataset_text_field=\"prompt\",\n",
        "        optim=\"paged_adamw_32bit\",\n",
        "        save_strategy=\"steps\",\n",
        "        report_to=None,\n",
        "        #report_to=\"wandb\",\n",
        "        logging_steps=1,\n",
        "        packing=False,\n",
        "        gradient_checkpointing=True,\n",
        "    ),\n",
        "    data_collator=transformers.DataCollatorForLanguageModeling(tokenizer, mlm=False),\n",
        ")\n",
        "trainer.train()"
      ]
    },
    {
      "cell_type": "markdown",
      "source": [
        "## 儲存Adapter\n",
        "- Huggingface的Token，<font color=red>一定要包含『write』權限</font>\n",
        "- <font color=red>??????????</font>/peft-model-repo，?????????請輸入自己在huggingface的帳號"
      ],
      "metadata": {
        "id": "U-0sdgzwzU_d"
      }
    },
    {
      "cell_type": "code",
      "execution_count": null,
      "metadata": {
        "id": "LUlNYwtvb1xm"
      },
      "outputs": [],
      "source": [
        "peft_model.save_pretrained(\"peft_model\")\n",
        "repo_name = \"shhuangmust/peft-model-repo\"  # 替換為你的 repository 名稱\n",
        "save_directory = \"./peft_model\"             # 模型儲存的本地路徑\n",
        "\n",
        "# 上傳模型到 Hugging Face\n",
        "peft_model.push_to_hub(repo_name)"
      ]
    },
    {
      "cell_type": "code",
      "execution_count": null,
      "metadata": {
        "id": "oyXdMyKGb1xm"
      },
      "outputs": [],
      "source": [
        "base_model = AutoModelForCausalLM.from_pretrained(\n",
        "    model_id,\n",
        "    low_cpu_mem_usage=True,\n",
        "    return_dict=True,\n",
        "    torch_dtype=torch.float16,\n",
        "    device_map=\"auto\",\n",
        ")\n",
        "merged_model = PeftModel.from_pretrained(base_model, \"output1/checkpoint-100\")\n",
        "merged_model = merged_model.merge_and_unload()\n"
      ]
    },
    {
      "cell_type": "markdown",
      "source": [
        "## 一般來說只需要上傳Adapter即可，要使用LLM時，Adapter+基礎模型即可。這邊直接把兩者合併為(merged_model)"
      ],
      "metadata": {
        "id": "R0FlNV9J0DGh"
      }
    },
    {
      "cell_type": "code",
      "source": [
        "merged_model.save_pretrained(\"merged_model\", safe_serialization=True, push_to_hub=True)\n",
        "tokenizer.save_pretrained(\"merged_model\", push_to_hub=True)"
      ],
      "metadata": {
        "id": "vd88S7idrJdG"
      },
      "execution_count": null,
      "outputs": []
    },
    {
      "cell_type": "markdown",
      "source": [
        "![PEFT.jpg](data:image/jpeg;base64,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)"
      ],
      "metadata": {
        "id": "U6O_3c1pFYzi"
      }
    }
  ],
  "metadata": {
    "kernelspec": {
      "display_name": "Python 3",
      "name": "python3"
    },
    "language_info": {
      "codemirror_mode": {
        "name": "ipython",
        "version": 3
      },
      "file_extension": ".py",
      "mimetype": "text/x-python",
      "name": "python",
      "nbconvert_exporter": "python",
      "pygments_lexer": "ipython3",
      "version": "3.11.5"
    },
    "colab": {
      "provenance": [],
      "gpuType": "T4"
    },
    "accelerator": "GPU"
  },
  "nbformat": 4,
  "nbformat_minor": 0
}
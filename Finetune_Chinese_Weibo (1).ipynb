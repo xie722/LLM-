{
  "cells": [
    {
      "cell_type": "markdown",
      "source": [
        "# 利用中文微博評價資料進行Bert微調\n"
      ],
      "metadata": {
        "id": "InzDVsYebA3i"
      }
    },
    {
      "cell_type": "code",
      "execution_count": null,
      "metadata": {
        "id": "D9_MYAvTt_ny"
      },
      "outputs": [],
      "source": [
        "! pip install transformers datasets\n",
        "! pip install evaluate"
      ]
    },
    {
      "cell_type": "markdown",
      "source": [
        "## 下載微博評價資料"
      ],
      "metadata": {
        "id": "AbjXOFIubq0p"
      }
    },
    {
      "cell_type": "code",
      "source": [
        "!wget https://github.com/shhuangmust/AI/raw/refs/heads/113-1/weibo_senti_100k.csv"
      ],
      "metadata": {
        "id": "G5MvkVG-vCJS"
      },
      "execution_count": null,
      "outputs": []
    },
    {
      "cell_type": "markdown",
      "source": [
        "## 讀取Weibo資料集\n",
        "- 共有119988筆資料"
      ],
      "metadata": {
        "id": "ncbSFRjXb_WW"
      }
    },
    {
      "cell_type": "code",
      "source": [
        "from datasets import load_dataset, DatasetDict\n",
        "\n",
        "ds = load_dataset(\"csv\", data_files=\"weibo_senti_100k.csv\")\n",
        "print(ds)"
      ],
      "metadata": {
        "id": "qF_dTvwmcJs4"
      },
      "execution_count": null,
      "outputs": []
    },
    {
      "cell_type": "markdown",
      "source": [
        "## 分割資料集\n",
        "- 80%訓練(train)資料\n",
        "- 10%測試(test)資料\n",
        "- 10%驗證(valid)資料\n"
      ],
      "metadata": {
        "id": "J8F1VgE1dKYU"
      }
    },
    {
      "cell_type": "code",
      "execution_count": null,
      "metadata": {
        "id": "1V5Gbiiet_n4"
      },
      "outputs": [],
      "source": [
        "train_testvalid = ds['train'].train_test_split(test_size=0.2)\n",
        "test_valid = train_testvalid['test'].train_test_split(test_size=0.5)\n",
        "dataset = DatasetDict({\n",
        "    'train': train_testvalid['train'],\n",
        "    'test': test_valid['test'],\n",
        "    'valid': test_valid['train']})\n"
      ]
    },
    {
      "cell_type": "markdown",
      "source": [
        "## 進行分詞"
      ],
      "metadata": {
        "id": "7TaVSvndjYMM"
      }
    },
    {
      "cell_type": "code",
      "execution_count": null,
      "metadata": {
        "id": "2Y6zQ8Nat_n4"
      },
      "outputs": [],
      "source": [
        "from transformers import AutoTokenizer\n",
        "\n",
        "tokenizer = AutoTokenizer.from_pretrained(\"google-bert/bert-base-chinese\")\n",
        "\n",
        "def tokenize_function(examples):\n",
        "    return tokenizer(examples[\"review\"], padding=\"max_length\", truncation=True)\n",
        "\n",
        "tokenized_datasets = dataset.map(tokenize_function, batched=True)"
      ]
    },
    {
      "cell_type": "markdown",
      "source": [
        "## 為簡化訓練，挑選10000筆作為訓練與測試資料"
      ],
      "metadata": {
        "id": "grpJmCAoeNeK"
      }
    },
    {
      "cell_type": "code",
      "execution_count": null,
      "metadata": {
        "id": "5rc1fLZht_n5"
      },
      "outputs": [],
      "source": [
        "small_train_dataset = tokenized_datasets[\"train\"].shuffle(seed=42).select(range(10000))\n",
        "small_eval_dataset = tokenized_datasets[\"test\"].shuffle(seed=42).select(range(10000))\n",
        "print(small_train_dataset)\n",
        "print(small_eval_dataset)"
      ]
    },
    {
      "cell_type": "markdown",
      "source": [
        "## 列印一筆資料出來看"
      ],
      "metadata": {
        "id": "C63M7VNdfcBv"
      }
    },
    {
      "cell_type": "code",
      "execution_count": null,
      "metadata": {
        "id": "ywKRkPIsyo3a"
      },
      "outputs": [],
      "source": [
        "tokenized_datasets[\"train\"][100]"
      ]
    },
    {
      "cell_type": "markdown",
      "source": [
        "## 本次微調需要得到正面/負面的判斷結果，因此挑選AutoModelForSequenceClassification\n",
        "- 輸出結果為正面/負面，因此num_labels=2"
      ],
      "metadata": {
        "id": "7MmEQlcTfqPD"
      }
    },
    {
      "cell_type": "code",
      "execution_count": null,
      "metadata": {
        "id": "bQFd_iZSt_n6"
      },
      "outputs": [],
      "source": [
        "from transformers import AutoModelForSequenceClassification\n",
        "\n",
        "model = AutoModelForSequenceClassification.from_pretrained(\"google-bert/bert-base-chinese\", num_labels=2)"
      ]
    },
    {
      "cell_type": "markdown",
      "source": [
        "## 利用TrainingArguments設定微調參數"
      ],
      "metadata": {
        "id": "dN8pEtRajjnI"
      }
    },
    {
      "cell_type": "code",
      "execution_count": null,
      "metadata": {
        "id": "NjSYs4ITt_n6"
      },
      "outputs": [],
      "source": [
        "from transformers import TrainingArguments\n",
        "import numpy as np\n",
        "import evaluate\n",
        "\n",
        "metric = evaluate.load(\"accuracy\")\n",
        "def compute_metrics(eval_pred):\n",
        "    logits, labels = eval_pred\n",
        "    predictions = np.argmax(logits, axis=-1)\n",
        "    return metric.compute(predictions=predictions, references=labels)\n",
        "\n",
        "training_args = TrainingArguments(output_dir=\"test_trainer_chinese\", evaluation_strategy=\"epoch\")\n"
      ]
    },
    {
      "cell_type": "markdown",
      "source": [
        "## 利用Trainer進行訓練\n",
        "- 此處須輸入wandb key"
      ],
      "metadata": {
        "id": "uhzzfYinjs3m"
      }
    },
    {
      "cell_type": "code",
      "execution_count": null,
      "metadata": {
        "id": "x605ha0Bt_n7",
        "outputId": "09ab63c9-d915-4200-8a6b-c8e35d816e88",
        "colab": {
          "base_uri": "https://localhost:8080/",
          "height": 140
        }
      },
      "outputs": [
        {
          "metadata": {
            "tags": null
          },
          "name": "stderr",
          "output_type": "stream",
          "text": [
            "\u001b[34m\u001b[1mwandb\u001b[0m: \u001b[33mWARNING\u001b[0m The `run_name` is currently set to the same value as `TrainingArguments.output_dir`. If this was not intended, please specify a different run name by setting the `TrainingArguments.run_name` parameter.\n",
            "\u001b[34m\u001b[1mwandb\u001b[0m: Using wandb-core as the SDK backend.  Please refer to https://wandb.me/wandb-core for more information.\n"
          ]
        },
        {
          "data": {
            "application/javascript": [
              "\n",
              "        window._wandbApiKey = new Promise((resolve, reject) => {\n",
              "            function loadScript(url) {\n",
              "            return new Promise(function(resolve, reject) {\n",
              "                let newScript = document.createElement(\"script\");\n",
              "                newScript.onerror = reject;\n",
              "                newScript.onload = resolve;\n",
              "                document.body.appendChild(newScript);\n",
              "                newScript.src = url;\n",
              "            });\n",
              "            }\n",
              "            loadScript(\"https://cdn.jsdelivr.net/npm/postmate/build/postmate.min.js\").then(() => {\n",
              "            const iframe = document.createElement('iframe')\n",
              "            iframe.style.cssText = \"width:0;height:0;border:none\"\n",
              "            document.body.appendChild(iframe)\n",
              "            const handshake = new Postmate({\n",
              "                container: iframe,\n",
              "                url: 'https://wandb.ai/authorize'\n",
              "            });\n",
              "            const timeout = setTimeout(() => reject(\"Couldn't auto authenticate\"), 5000)\n",
              "            handshake.then(function(child) {\n",
              "                child.on('authorize', data => {\n",
              "                    clearTimeout(timeout)\n",
              "                    resolve(data)\n",
              "                });\n",
              "            });\n",
              "            })\n",
              "        });\n",
              "    "
            ],
            "text/plain": [
              "<IPython.core.display.Javascript object>"
            ]
          },
          "metadata": {},
          "output_type": "display_data"
        },
        {
          "metadata": {
            "tags": null
          },
          "name": "stderr",
          "output_type": "stream",
          "text": [
            "\u001b[34m\u001b[1mwandb\u001b[0m: Logging into wandb.ai. (Learn how to deploy a W&B server locally: https://wandb.me/wandb-server)\n",
            "\u001b[34m\u001b[1mwandb\u001b[0m: You can find your API key in your browser here: https://wandb.ai/authorize\n",
            "wandb: Paste an API key from your profile and hit enter:"
          ]
        }
      ],
      "source": [
        "from transformers import Trainer\n",
        "\n",
        "trainer = Trainer(\n",
        "    model=model,\n",
        "    args=training_args,\n",
        "    train_dataset=small_train_dataset,\n",
        "    eval_dataset=small_eval_dataset,\n",
        "    compute_metrics=compute_metrics,\n",
        ")\n",
        "trainer.train()"
      ]
    },
    {
      "cell_type": "markdown",
      "source": [
        "## 利用pipeline進行測試\n",
        "- LABEL_0：負面\n",
        "- LABEL_1：正面"
      ],
      "metadata": {
        "id": "RjWCv-cQkM0d"
      }
    },
    {
      "cell_type": "code",
      "execution_count": null,
      "metadata": {
        "id": "a296BUsBemmj"
      },
      "outputs": [],
      "source": [
        "from transformers import pipeline\n",
        "pipe = pipeline(\"sentiment-analysis\", model='test_trainer_chinese/checkpoint-1500', tokenizer=tokenizer)"
      ]
    },
    {
      "cell_type": "code",
      "source": [
        "pipe(\"我喜歡這個產品\")"
      ],
      "metadata": {
        "id": "ze1tp63WuiwK"
      },
      "execution_count": null,
      "outputs": []
    }
  ],
  "metadata": {
    "accelerator": "GPU",
    "colab": {
      "gpuType": "T4",
      "provenance": []
    },
    "kernelspec": {
      "display_name": "Python 3",
      "name": "python3"
    },
    "language_info": {
      "codemirror_mode": {
        "name": "ipython",
        "version": 3
      },
      "file_extension": ".py",
      "mimetype": "text/x-python",
      "name": "python",
      "nbconvert_exporter": "python",
      "pygments_lexer": "ipython3",
      "version": "3.11.8"
    }
  },
  "nbformat": 4,
  "nbformat_minor": 0
}